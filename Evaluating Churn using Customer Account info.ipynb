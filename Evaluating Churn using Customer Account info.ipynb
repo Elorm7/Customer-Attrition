{
 "cells": [
  {
   "cell_type": "code",
   "execution_count": 1,
   "id": "e9ca9fbe",
   "metadata": {},
   "outputs": [],
   "source": [
    "import pandas as pd\n",
    "import numpy as np\n",
    "import seaborn as sns\n",
    "import matplotlib.pyplot as plt\n",
    "import matplotlib.patches as mpatches\n",
    "import matplotlib.ticker as mtick"
   ]
  },
  {
   "cell_type": "code",
   "execution_count": 2,
   "id": "074e0203",
   "metadata": {},
   "outputs": [],
   "source": [
    "Telco = pd.read_excel('Data/Telco.xlsx')"
   ]
  },
  {
   "cell_type": "code",
   "execution_count": 3,
   "id": "7af46b03",
   "metadata": {},
   "outputs": [
    {
     "data": {
      "text/html": [
       "<div>\n",
       "<style scoped>\n",
       "    .dataframe tbody tr th:only-of-type {\n",
       "        vertical-align: middle;\n",
       "    }\n",
       "\n",
       "    .dataframe tbody tr th {\n",
       "        vertical-align: top;\n",
       "    }\n",
       "\n",
       "    .dataframe thead th {\n",
       "        text-align: right;\n",
       "    }\n",
       "</style>\n",
       "<table border=\"1\" class=\"dataframe\">\n",
       "  <thead>\n",
       "    <tr style=\"text-align: right;\">\n",
       "      <th></th>\n",
       "      <th>CustomerID</th>\n",
       "      <th>Count</th>\n",
       "      <th>Country</th>\n",
       "      <th>State</th>\n",
       "      <th>City</th>\n",
       "      <th>Zip Code</th>\n",
       "      <th>Lat Long</th>\n",
       "      <th>Latitude</th>\n",
       "      <th>Longitude</th>\n",
       "      <th>Gender</th>\n",
       "      <th>...</th>\n",
       "      <th>Contract</th>\n",
       "      <th>Paperless Billing</th>\n",
       "      <th>Payment Method</th>\n",
       "      <th>Monthly Charges</th>\n",
       "      <th>Total Charges</th>\n",
       "      <th>Churn Label</th>\n",
       "      <th>Churn Value</th>\n",
       "      <th>Churn Score</th>\n",
       "      <th>CLTV</th>\n",
       "      <th>Churn Reason</th>\n",
       "    </tr>\n",
       "  </thead>\n",
       "  <tbody>\n",
       "    <tr>\n",
       "      <th>0</th>\n",
       "      <td>3668-QPYBK</td>\n",
       "      <td>1</td>\n",
       "      <td>United States</td>\n",
       "      <td>California</td>\n",
       "      <td>Los Angeles</td>\n",
       "      <td>90003</td>\n",
       "      <td>33.964131, -118.272783</td>\n",
       "      <td>33.964131</td>\n",
       "      <td>-118.272783</td>\n",
       "      <td>Male</td>\n",
       "      <td>...</td>\n",
       "      <td>Month-to-month</td>\n",
       "      <td>Yes</td>\n",
       "      <td>Mailed check</td>\n",
       "      <td>53.85</td>\n",
       "      <td>108.15</td>\n",
       "      <td>Yes</td>\n",
       "      <td>1</td>\n",
       "      <td>86</td>\n",
       "      <td>3239</td>\n",
       "      <td>Competitor made better offer</td>\n",
       "    </tr>\n",
       "    <tr>\n",
       "      <th>1</th>\n",
       "      <td>9237-HQITU</td>\n",
       "      <td>1</td>\n",
       "      <td>United States</td>\n",
       "      <td>California</td>\n",
       "      <td>Los Angeles</td>\n",
       "      <td>90005</td>\n",
       "      <td>34.059281, -118.30742</td>\n",
       "      <td>34.059281</td>\n",
       "      <td>-118.307420</td>\n",
       "      <td>Female</td>\n",
       "      <td>...</td>\n",
       "      <td>Month-to-month</td>\n",
       "      <td>Yes</td>\n",
       "      <td>Electronic check</td>\n",
       "      <td>70.70</td>\n",
       "      <td>151.65</td>\n",
       "      <td>Yes</td>\n",
       "      <td>1</td>\n",
       "      <td>67</td>\n",
       "      <td>2701</td>\n",
       "      <td>Moved</td>\n",
       "    </tr>\n",
       "    <tr>\n",
       "      <th>2</th>\n",
       "      <td>9305-CDSKC</td>\n",
       "      <td>1</td>\n",
       "      <td>United States</td>\n",
       "      <td>California</td>\n",
       "      <td>Los Angeles</td>\n",
       "      <td>90006</td>\n",
       "      <td>34.048013, -118.293953</td>\n",
       "      <td>34.048013</td>\n",
       "      <td>-118.293953</td>\n",
       "      <td>Female</td>\n",
       "      <td>...</td>\n",
       "      <td>Month-to-month</td>\n",
       "      <td>Yes</td>\n",
       "      <td>Electronic check</td>\n",
       "      <td>99.65</td>\n",
       "      <td>820.5</td>\n",
       "      <td>Yes</td>\n",
       "      <td>1</td>\n",
       "      <td>86</td>\n",
       "      <td>5372</td>\n",
       "      <td>Moved</td>\n",
       "    </tr>\n",
       "    <tr>\n",
       "      <th>3</th>\n",
       "      <td>7892-POOKP</td>\n",
       "      <td>1</td>\n",
       "      <td>United States</td>\n",
       "      <td>California</td>\n",
       "      <td>Los Angeles</td>\n",
       "      <td>90010</td>\n",
       "      <td>34.062125, -118.315709</td>\n",
       "      <td>34.062125</td>\n",
       "      <td>-118.315709</td>\n",
       "      <td>Female</td>\n",
       "      <td>...</td>\n",
       "      <td>Month-to-month</td>\n",
       "      <td>Yes</td>\n",
       "      <td>Electronic check</td>\n",
       "      <td>104.80</td>\n",
       "      <td>3046.05</td>\n",
       "      <td>Yes</td>\n",
       "      <td>1</td>\n",
       "      <td>84</td>\n",
       "      <td>5003</td>\n",
       "      <td>Moved</td>\n",
       "    </tr>\n",
       "    <tr>\n",
       "      <th>4</th>\n",
       "      <td>0280-XJGEX</td>\n",
       "      <td>1</td>\n",
       "      <td>United States</td>\n",
       "      <td>California</td>\n",
       "      <td>Los Angeles</td>\n",
       "      <td>90015</td>\n",
       "      <td>34.039224, -118.266293</td>\n",
       "      <td>34.039224</td>\n",
       "      <td>-118.266293</td>\n",
       "      <td>Male</td>\n",
       "      <td>...</td>\n",
       "      <td>Month-to-month</td>\n",
       "      <td>Yes</td>\n",
       "      <td>Bank transfer (automatic)</td>\n",
       "      <td>103.70</td>\n",
       "      <td>5036.3</td>\n",
       "      <td>Yes</td>\n",
       "      <td>1</td>\n",
       "      <td>89</td>\n",
       "      <td>5340</td>\n",
       "      <td>Competitor had better devices</td>\n",
       "    </tr>\n",
       "  </tbody>\n",
       "</table>\n",
       "<p>5 rows × 33 columns</p>\n",
       "</div>"
      ],
      "text/plain": [
       "   CustomerID  Count        Country       State         City  Zip Code  \\\n",
       "0  3668-QPYBK      1  United States  California  Los Angeles     90003   \n",
       "1  9237-HQITU      1  United States  California  Los Angeles     90005   \n",
       "2  9305-CDSKC      1  United States  California  Los Angeles     90006   \n",
       "3  7892-POOKP      1  United States  California  Los Angeles     90010   \n",
       "4  0280-XJGEX      1  United States  California  Los Angeles     90015   \n",
       "\n",
       "                 Lat Long   Latitude   Longitude  Gender  ...        Contract  \\\n",
       "0  33.964131, -118.272783  33.964131 -118.272783    Male  ...  Month-to-month   \n",
       "1   34.059281, -118.30742  34.059281 -118.307420  Female  ...  Month-to-month   \n",
       "2  34.048013, -118.293953  34.048013 -118.293953  Female  ...  Month-to-month   \n",
       "3  34.062125, -118.315709  34.062125 -118.315709  Female  ...  Month-to-month   \n",
       "4  34.039224, -118.266293  34.039224 -118.266293    Male  ...  Month-to-month   \n",
       "\n",
       "  Paperless Billing             Payment Method  Monthly Charges Total Charges  \\\n",
       "0               Yes               Mailed check            53.85        108.15   \n",
       "1               Yes           Electronic check            70.70        151.65   \n",
       "2               Yes           Electronic check            99.65         820.5   \n",
       "3               Yes           Electronic check           104.80       3046.05   \n",
       "4               Yes  Bank transfer (automatic)           103.70        5036.3   \n",
       "\n",
       "  Churn Label Churn Value Churn Score  CLTV                   Churn Reason  \n",
       "0         Yes           1          86  3239   Competitor made better offer  \n",
       "1         Yes           1          67  2701                          Moved  \n",
       "2         Yes           1          86  5372                          Moved  \n",
       "3         Yes           1          84  5003                          Moved  \n",
       "4         Yes           1          89  5340  Competitor had better devices  \n",
       "\n",
       "[5 rows x 33 columns]"
      ]
     },
     "execution_count": 3,
     "metadata": {},
     "output_type": "execute_result"
    }
   ],
   "source": [
    "Telco.head()"
   ]
  },
  {
   "cell_type": "code",
   "execution_count": 4,
   "id": "e15bdd3c",
   "metadata": {},
   "outputs": [
    {
     "name": "stdout",
     "output_type": "stream",
     "text": [
      "<class 'pandas.core.frame.DataFrame'>\n",
      "RangeIndex: 7043 entries, 0 to 7042\n",
      "Data columns (total 33 columns):\n",
      " #   Column             Non-Null Count  Dtype  \n",
      "---  ------             --------------  -----  \n",
      " 0   CustomerID         7043 non-null   object \n",
      " 1   Count              7043 non-null   int64  \n",
      " 2   Country            7043 non-null   object \n",
      " 3   State              7043 non-null   object \n",
      " 4   City               7043 non-null   object \n",
      " 5   Zip Code           7043 non-null   int64  \n",
      " 6   Lat Long           7043 non-null   object \n",
      " 7   Latitude           7043 non-null   float64\n",
      " 8   Longitude          7043 non-null   float64\n",
      " 9   Gender             7043 non-null   object \n",
      " 10  Senior Citizen     7043 non-null   object \n",
      " 11  Partner            7043 non-null   object \n",
      " 12  Dependents         7043 non-null   object \n",
      " 13  Tenure Months      7043 non-null   int64  \n",
      " 14  Phone Service      7043 non-null   object \n",
      " 15  Multiple Lines     7043 non-null   object \n",
      " 16  Internet Service   7043 non-null   object \n",
      " 17  Online Security    7043 non-null   object \n",
      " 18  Online Backup      7043 non-null   object \n",
      " 19  Device Protection  7043 non-null   object \n",
      " 20  Tech Support       7043 non-null   object \n",
      " 21  Streaming TV       7043 non-null   object \n",
      " 22  Streaming Movies   7043 non-null   object \n",
      " 23  Contract           7043 non-null   object \n",
      " 24  Paperless Billing  7043 non-null   object \n",
      " 25  Payment Method     7043 non-null   object \n",
      " 26  Monthly Charges    7043 non-null   float64\n",
      " 27  Total Charges      7043 non-null   object \n",
      " 28  Churn Label        7043 non-null   object \n",
      " 29  Churn Value        7043 non-null   int64  \n",
      " 30  Churn Score        7043 non-null   int64  \n",
      " 31  CLTV               7043 non-null   int64  \n",
      " 32  Churn Reason       1869 non-null   object \n",
      "dtypes: float64(3), int64(6), object(24)\n",
      "memory usage: 1.8+ MB\n"
     ]
    }
   ],
   "source": [
    "Telco.info()"
   ]
  },
  {
   "cell_type": "code",
   "execution_count": 5,
   "id": "a0f08a93",
   "metadata": {},
   "outputs": [
    {
     "name": "stdout",
     "output_type": "stream",
     "text": [
      "Column: CustomerID - Unique Values: ['3668-QPYBK' '9237-HQITU' '9305-CDSKC' ... '2234-XADUH' '4801-JZAZL'\n",
      " '3186-AJIEK']\n",
      "Column: Count - Unique Values: [1]\n",
      "Column: Country - Unique Values: ['United States']\n",
      "Column: State - Unique Values: ['California']\n",
      "Column: City - Unique Values: ['Los Angeles' 'Beverly Hills' 'Huntington Park' ... 'Standish' 'Tulelake'\n",
      " 'Olympic Valley']\n",
      "Column: Zip Code - Unique Values: [90003 90005 90006 ... 96128 96134 96146]\n",
      "Column: Lat Long - Unique Values: ['33.964131, -118.272783' '34.059281, -118.30742' '34.048013, -118.293953'\n",
      " ... '40.346634, -120.386422' '41.813521, -121.492666'\n",
      " '39.191797, -120.212401']\n",
      "Column: Latitude - Unique Values: [33.964131 34.059281 34.048013 ... 40.346634 41.813521 39.191797]\n",
      "Column: Longitude - Unique Values: [-118.272783 -118.30742  -118.293953 ... -120.386422 -121.492666\n",
      " -120.212401]\n",
      "Column: Gender - Unique Values: ['Male' 'Female']\n",
      "Column: Senior Citizen - Unique Values: ['No' 'Yes']\n",
      "Column: Partner - Unique Values: ['No' 'Yes']\n",
      "Column: Dependents - Unique Values: ['No' 'Yes']\n",
      "Column: Tenure Months - Unique Values: [ 2  8 28 49 10  1 47 17  5 34 11 15 18  9  7 12 25 68 55 37  3 27 20  4\n",
      " 58 53 13  6 19 59 16 52 24 32 38 54 43 63 21 69 22 61 60 48 40 23 39 35\n",
      " 56 65 33 30 45 46 62 70 50 44 71 26 14 41 66 64 29 42 67 51 31 57 36 72\n",
      "  0]\n",
      "Column: Phone Service - Unique Values: ['Yes' 'No']\n",
      "Column: Multiple Lines - Unique Values: ['No' 'Yes' 'No phone service']\n",
      "Column: Internet Service - Unique Values: ['DSL' 'Fiber optic' 'No']\n",
      "Column: Online Security - Unique Values: ['Yes' 'No' 'No internet service']\n",
      "Column: Online Backup - Unique Values: ['Yes' 'No' 'No internet service']\n",
      "Column: Device Protection - Unique Values: ['No' 'Yes' 'No internet service']\n",
      "Column: Tech Support - Unique Values: ['No' 'Yes' 'No internet service']\n",
      "Column: Streaming TV - Unique Values: ['No' 'Yes' 'No internet service']\n",
      "Column: Streaming Movies - Unique Values: ['No' 'Yes' 'No internet service']\n",
      "Column: Contract - Unique Values: ['Month-to-month' 'Two year' 'One year']\n",
      "Column: Paperless Billing - Unique Values: ['Yes' 'No']\n",
      "Column: Payment Method - Unique Values: ['Mailed check' 'Electronic check' 'Bank transfer (automatic)'\n",
      " 'Credit card (automatic)']\n",
      "Column: Monthly Charges - Unique Values: [ 53.85  70.7   99.65 ... 108.35  63.1   78.7 ]\n",
      "Column: Total Charges - Unique Values: [108.15 151.65 820.5 ... 7362.9 346.45 6844.5]\n",
      "Column: Churn Label - Unique Values: ['Yes' 'No']\n",
      "Column: Churn Value - Unique Values: [1 0]\n",
      "Column: Churn Score - Unique Values: [ 86  67  84  89  78 100  92  77  97  74  66  65  70  90  82  69  81  96\n",
      "  87  88  75  76  95  99  80  73  94  83  98  71  85  68  91  93  72  79\n",
      "  27  61  43  51  58  39  35  57  53  21  38  40  41  22  25  64  49  62\n",
      "  52  59  29  33  20  30  26  54  56  55  28  37   9  60  24  63  23  47\n",
      "  32   8  46  42  48  36  34   7  50  44  31   5  45]\n",
      "Column: CLTV - Unique Values: [3239 2701 5372 ... 2770 4645 5553]\n",
      "Column: Churn Reason - Unique Values: ['Competitor made better offer' 'Moved' 'Competitor had better devices'\n",
      " 'Competitor offered higher download speeds'\n",
      " 'Competitor offered more data' 'Price too high' 'Product dissatisfaction'\n",
      " 'Service dissatisfaction' 'Lack of self-service on Website'\n",
      " 'Network reliability' 'Limited range of services'\n",
      " 'Lack of affordable download/upload speed' 'Long distance charges'\n",
      " 'Extra data charges' \"Don't know\" 'Poor expertise of online support'\n",
      " 'Poor expertise of phone support' 'Attitude of service provider'\n",
      " 'Attitude of support person' 'Deceased' nan]\n"
     ]
    }
   ],
   "source": [
    "for column in Telco.columns:\n",
    "    print('Column: {} - Unique Values: {}'.format(column, Telco[column].unique()))"
   ]
  },
  {
   "cell_type": "markdown",
   "id": "741f9db5",
   "metadata": {},
   "source": [
    "### Customer Account Information to be used are: Contract, Payment Method, & Paperless Billing"
   ]
  },
  {
   "cell_type": "markdown",
   "id": "d8c612d9",
   "metadata": {},
   "source": [
    "### 1. Contract"
   ]
  },
  {
   "cell_type": "code",
   "execution_count": 6,
   "id": "241b2da9",
   "metadata": {},
   "outputs": [],
   "source": [
    "contract_churn = Telco.groupby(['Contract','Churn Label']).size().unstack()"
   ]
  },
  {
   "cell_type": "code",
   "execution_count": 7,
   "id": "b9e156b3",
   "metadata": {},
   "outputs": [],
   "source": [
    "contract_churn.rename(columns={0:'No', 1:'Yes'}, inplace=True)"
   ]
  },
  {
   "cell_type": "code",
   "execution_count": 8,
   "id": "1c20412e",
   "metadata": {},
   "outputs": [
    {
     "data": {
      "image/png": "[encoded data removed]",
      "text/plain": [
       "<Figure size 864x504 with 1 Axes>"
      ]
     },
     "metadata": {
      "needs_background": "light"
     },
     "output_type": "display_data"
    }
   ],
   "source": [
    "colors  = ['#FFC000','#FF5733']\n",
    "\n",
    "ax = (contract_churn.T*100.0 / contract_churn.T.sum()).T.plot(kind='bar',width = 0.3,stacked = True,rot = 0,figsize = (12,7),color = colors)\n",
    "\n",
    "plt.ylabel('Proportion of Customers\\n',\n",
    "horizontalalignment=\"center\",fontstyle = \"normal\", \n",
    "fontsize = \"large\", fontfamily = \"sans-serif\")\n",
    "plt.xlabel('Contract Type\\n',horizontalalignment=\"center\",\n",
    "fontstyle = \"normal\", fontsize = \"large\", \n",
    "fontfamily = \"sans-serif\")\n",
    "\n",
    "plt.title('Percentage Churn by Contract type \\n',\n",
    "horizontalalignment=\"center\", fontstyle = \"normal\", \n",
    "fontsize = \"22\", fontfamily = \"sans-serif\")\n",
    "\n",
    "plt.legend(loc='upper right', fontsize = \"medium\")\n",
    "plt.xticks(rotation=0, horizontalalignment=\"center\")\n",
    "plt.yticks(rotation=0, horizontalalignment=\"right\")\n",
    "ax.yaxis.set_major_formatter(mtick.PercentFormatter())\n",
    "\n",
    "\n",
    "for p in ax.patches:\n",
    "    width, height = p.get_width(), p.get_height()\n",
    "    x, y = p.get_xy() \n",
    "    ax.text(x+width/2, \n",
    "            y+height/2, \n",
    "            '{:.1f}%'.format(height), \n",
    "            horizontalalignment='center', \n",
    "            verticalalignment='center')\n",
    "ax.autoscale(enable=False, axis='both', tight=False)"
   ]
  },
  {
   "cell_type": "markdown",
   "id": "d07b271b",
   "metadata": {},
   "source": [
    "### 2. Payment Method"
   ]
  },
  {
   "cell_type": "code",
   "execution_count": 9,
   "id": "1bb2a93d",
   "metadata": {},
   "outputs": [],
   "source": [
    "PaymentMethod_churn = Telco.groupby(['Payment Method','Churn Label']).size().unstack()"
   ]
  },
  {
   "cell_type": "code",
   "execution_count": 10,
   "id": "767510e4",
   "metadata": {},
   "outputs": [
    {
     "data": {
      "image/png": "[encoded data removed]",
      "text/plain": [
       "<Figure size 864x504 with 1 Axes>"
      ]
     },
     "metadata": {
      "needs_background": "light"
     },
     "output_type": "display_data"
    }
   ],
   "source": [
    "colors  = ['#0096FF','#FF5733']\n",
    "\n",
    "ax = (PaymentMethod_churn.T*100.0 / PaymentMethod_churn.T.sum()).T.plot(kind='bar',width = 0.3,stacked = True,rot = 0,figsize = (12,7),color = colors)\n",
    "\n",
    "plt.ylabel('Proportion of Customers\\n',\n",
    "horizontalalignment=\"center\",fontstyle = \"normal\", \n",
    "fontsize = \"large\", fontfamily = \"sans-serif\")\n",
    "plt.xlabel('Billing Method\\n',horizontalalignment=\"center\",\n",
    "fontstyle = \"normal\", fontsize = \"large\", \n",
    "fontfamily = \"sans-serif\")\n",
    "\n",
    "plt.title('Percentage Churn by Payment Method \\n',\n",
    "horizontalalignment=\"center\", fontstyle = \"normal\", \n",
    "fontsize = \"22\", fontfamily = \"sans-serif\")\n",
    "plt.legend(loc='upper right', fontsize = \"medium\")\n",
    "plt.xticks(rotation=0, horizontalalignment=\"center\")\n",
    "plt.yticks(rotation=0, horizontalalignment=\"right\")\n",
    "ax.yaxis.set_major_formatter(mtick.PercentFormatter())\n",
    "\n",
    "\n",
    "for p in ax.patches:\n",
    "    width, height = p.get_width(), p.get_height()\n",
    "    x, y = p.get_xy() \n",
    "    ax.text(x+width/2, \n",
    "            y+height/2, \n",
    "            '{:.1f}%'.format(height), \n",
    "            horizontalalignment='center', \n",
    "            verticalalignment='center')\n",
    "ax.autoscale(enable=False, axis='both', tight=False)"
   ]
  },
  {
   "cell_type": "markdown",
   "id": "ca6abd48",
   "metadata": {},
   "source": [
    "### 3. Paperless Billing"
   ]
  },
  {
   "cell_type": "code",
   "execution_count": 11,
   "id": "f77db32b",
   "metadata": {},
   "outputs": [],
   "source": [
    "Billing_churn = Telco.groupby(['Paperless Billing','Churn Label']).size().unstack()\n",
    "Billing_churn.rename(columns={0:'No', 1:'Yes'}, inplace=True)"
   ]
  },
  {
   "cell_type": "code",
   "execution_count": 12,
   "id": "782df5b2",
   "metadata": {},
   "outputs": [
    {
     "data": {
      "image/png": "[encoded data removed]",
      "text/plain": [
       "<Figure size 864x504 with 1 Axes>"
      ]
     },
     "metadata": {
      "needs_background": "light"
     },
     "output_type": "display_data"
    }
   ],
   "source": [
    "colors  = ['#FFC000','#FF5733']\n",
    "\n",
    "ax = (Billing_churn.T*100.0 / Billing_churn.T.sum()).T.plot(kind='bar',width = 0.3,stacked = True,rot = 0,figsize = (12,7),color = colors)\n",
    "\n",
    "plt.ylabel('Proportion of Customers\\n',\n",
    "horizontalalignment=\"center\",fontstyle = \"normal\", \n",
    "fontsize = \"large\", fontfamily = \"sans-serif\")\n",
    "plt.xlabel(' Paperless Billing\\n',horizontalalignment=\"center\",\n",
    "fontstyle = \"normal\", fontsize = \"large\", \n",
    "fontfamily = \"sans-serif\")\n",
    "\n",
    "plt.title('Percentage Churn by Billing Type \\n',\n",
    "horizontalalignment=\"center\", fontstyle = \"normal\", \n",
    "fontsize = \"22\", fontfamily = \"sans-serif\")\n",
    "plt.legend(loc='upper right', fontsize = \"medium\")\n",
    "plt.xticks(rotation=0, horizontalalignment=\"center\")\n",
    "plt.yticks(rotation=0, horizontalalignment=\"right\")\n",
    "ax.yaxis.set_major_formatter(mtick.PercentFormatter())\n",
    "\n",
    "\n",
    "for p in ax.patches:\n",
    "    width, height = p.get_width(), p.get_height()\n",
    "    x, y = p.get_xy() \n",
    "    ax.text(x+width/2, \n",
    "            y+height/2, \n",
    "            '{:.1f}%'.format(height), \n",
    "            horizontalalignment='center', \n",
    "            verticalalignment='center')\n",
    "ax.autoscale(enable=False, axis='both', tight=False)\n"
   ]
  },
  {
   "cell_type": "code",
   "execution_count": null,
   "id": "a224a0b8",
   "metadata": {},
   "outputs": [],
   "source": []
  }
 ],
 "metadata": {
  "kernelspec": {
   "display_name": "Python 3 (ipykernel)",
   "language": "python",
   "name": "python3"
  },
  "language_info": {
   "codemirror_mode": {
    "name": "ipython",
    "version": 3
   },
   "file_extension": ".py",
   "mimetype": "text/x-python",
   "name": "python",
   "nbconvert_exporter": "python",
   "pygments_lexer": "ipython3",
   "version": "3.9.7"
  }
 },
 "nbformat": 4,
 "nbformat_minor": 5
}
